{
 "cells": [
  {
   "cell_type": "markdown",
   "metadata": {},
   "source": [
    "# "
   ]
  },
  {
   "cell_type": "markdown",
   "metadata": {},
   "source": [
    "https://www.ree.es/es/apidatos\n",
    "\n",
    "1. Extracción de Datos a Nivel Nacional:\n",
    "\n",
    "    - Extraer datos de generación de energía renovable y no renovable a nivel nacional desde el 1 de enero de 2011 hasta el 31 de diciembre de 2022. La información debe ser recopilada a nivel mensual.\n",
    "\n",
    "    - Transformar los datos para incluir una columna nueva que identifique si la energía es renovable o no renovable.\n",
    "\n",
    "    - Almacenar los datos en un DataFrame con la siguiente estructura:\n"
   ]
  },
  {
   "cell_type": "code",
   "execution_count": null,
   "metadata": {},
   "outputs": [],
   "source": [
    "import requests\n",
    "\n",
    "import pandas as pd\n"
   ]
  },
  {
   "cell_type": "code",
   "execution_count": 14,
   "metadata": {},
   "outputs": [
    {
     "name": "stdout",
     "output_type": "stream",
     "text": [
      "La respuesta ha sido 200\n",
      "dict_keys(['data', 'included'])\n"
     ]
    }
   ],
   "source": [
    "rq1 = requests.get('https://apidatos.ree.es/es/datos/generacion/estructura-generacion?start_date=2011-01-01T00:00&end_date=2012-12-31T23:59&time_trunc=month')\n",
    "print(f'La respuesta ha sido {rq1.status_code}')\n",
    "\n",
    "json1 = rq1.json()\n",
    "json1.keys()\n",
    "\n",
    "print(json1.keys())"
   ]
  },
  {
   "cell_type": "code",
   "execution_count": 15,
   "metadata": {},
   "outputs": [
    {
     "data": {
      "text/plain": [
       "{'type': 'Generación por tecnología',\n",
       " 'id': 'gen1',\n",
       " 'attributes': {'title': 'Generación por tecnología',\n",
       "  'last-update': '2019-06-12T15:32:24.000+02:00',\n",
       "  'description': None},\n",
       " 'meta': {'cache-control': {'cache': 'HIT',\n",
       "   'expireAt': '2023-11-24T09:15:37'}}}"
      ]
     },
     "execution_count": 15,
     "metadata": {},
     "output_type": "execute_result"
    }
   ],
   "source": [
    "json1['data']\n"
   ]
  },
  {
   "cell_type": "code",
   "execution_count": 18,
   "metadata": {},
   "outputs": [
    {
     "name": "stdout",
     "output_type": "stream",
     "text": [
      "dict_keys(['type', 'id', 'attributes', 'meta'])\n"
     ]
    }
   ],
   "source": [
    "extraccion2 = json1['data']\n",
    "extraccion2.keys()\n",
    "\n",
    "print(extraccion2.keys())"
   ]
  },
  {
   "cell_type": "code",
   "execution_count": null,
   "metadata": {},
   "outputs": [],
   "source": [
    "json1['included']"
   ]
  },
  {
   "cell_type": "code",
   "execution_count": 17,
   "metadata": {},
   "outputs": [
    {
     "name": "stdout",
     "output_type": "stream",
     "text": [
      "dict_keys(['type', 'id', 'groupId', 'attributes'])\n"
     ]
    }
   ],
   "source": [
    "extraccion1 = json1['included'][0]\n",
    "extraccion1.keys()\n",
    "\n",
    "print(extraccion1.keys())"
   ]
  },
  {
   "cell_type": "code",
   "execution_count": 32,
   "metadata": {},
   "outputs": [
    {
     "name": "stdout",
     "output_type": "stream",
     "text": [
      "https://apidatos.ree.es/es/datos/generacion/estructura-generacion?start_date=2011-01-01T00:00&end_date=2012-12-31T23:59&time_trunc=month=1\n",
      "https://apidatos.ree.es/es/datos/generacion/estructura-generacion?start_date=2011-01-01T00:00&end_date=2012-12-31T23:59&time_trunc=month=2\n",
      "https://apidatos.ree.es/es/datos/generacion/estructura-generacion?start_date=2011-01-01T00:00&end_date=2012-12-31T23:59&time_trunc=month=3\n",
      "https://apidatos.ree.es/es/datos/generacion/estructura-generacion?start_date=2011-01-01T00:00&end_date=2012-12-31T23:59&time_trunc=month=4\n"
     ]
    }
   ],
   "source": [
    "for type in range(1,5):\n",
    "    url = f'https://apidatos.ree.es/es/datos/generacion/estructura-generacion?start_date=2011-01-01T00:00&end_date=2012-12-31T23:59&time_trunc=month={type}'\n",
    "\n",
    "    print(url)"
   ]
  },
  {
   "cell_type": "code",
   "execution_count": 34,
   "metadata": {},
   "outputs": [
    {
     "name": "stdout",
     "output_type": "stream",
     "text": [
      "{'errors': [{'code': 411, 'status': '400', 'title': 'Widget bad request', 'detail': 'Petición incorrecta. No se ha especificado un time_trunc válido.'}]}\n",
      "{'errors': [{'code': 411, 'status': '400', 'title': 'Widget bad request', 'detail': 'Petición incorrecta. No se ha especificado un time_trunc válido.'}]}\n"
     ]
    }
   ],
   "source": [
    "rq1 = requests.get('https://apidatos.ree.es/es/datos/generacion/estructura-generacion?start_date=2011-01-01T00:00&end_date=2012-12-31T23:59&time_trunc=month=1').json()\n",
    "rq2 = requests.get('https://apidatos.ree.es/es/datos/generacion/estructura-generacion?start_date=2011-01-01T00:00&end_date=2012-12-31T23:59&time_trunc=month=2').json()\n",
    "\n",
    "print(rq1)\n",
    "print(rq2)"
   ]
  },
  {
   "cell_type": "code",
   "execution_count": null,
   "metadata": {},
   "outputs": [],
   "source": []
  },
  {
   "cell_type": "code",
   "execution_count": null,
   "metadata": {},
   "outputs": [],
   "source": [
    "diccionariodatos = {}"
   ]
  },
  {
   "cell_type": "markdown",
   "metadata": {},
   "source": [
    "\n",
    "2. Extracción de Datos por Comunidad Autónoma:\n",
    "\n",
    "    - Extraer datos de generación de energía renovable y no renovable por Comunidad Autónoma.\n",
    "\n",
    "    - Utilizar el diccionario cod_comunidades para obtener los códigos de cada comunidad autónoma.\n",
    "\n",
    "    - Transformar los datos para incluir una columna que especifique la comunidad autónoma y su identificador.\n",
    "\n",
    "    - Almacenar los datos en un DataFrame con la siguiente estructura:"
   ]
  }
 ],
 "metadata": {
  "kernelspec": {
   "display_name": "base",
   "language": "python",
   "name": "python3"
  },
  "language_info": {
   "codemirror_mode": {
    "name": "ipython",
    "version": 3
   },
   "file_extension": ".py",
   "mimetype": "text/x-python",
   "name": "python",
   "nbconvert_exporter": "python",
   "pygments_lexer": "ipython3",
   "version": "3.9.7"
  }
 },
 "nbformat": 4,
 "nbformat_minor": 2
}
